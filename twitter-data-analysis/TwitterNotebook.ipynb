{
 "cells": [
  {
   "cell_type": "code",
   "execution_count": 1,
   "metadata": {},
   "outputs": [],
   "source": [
    "import re\n",
    "import tweepy\n",
    "from tweepy import OAuthHandler\n",
    "from textblob import TextBlob"
   ]
  },
  {
   "cell_type": "code",
   "execution_count": 18,
   "metadata": {},
   "outputs": [],
   "source": [
    "# getting Twitter Dev keys and tokens from txt file\n",
    "with open('TwitterKeysTokens.txt') as f:\n",
    "    content = f.read().splitlines()"
   ]
  },
  {
   "source": [
    "## First lets define the topic tou want to enquire about...\n",
    "\n",
    "### for example... 'marmite' or 'Boris Johnson'.\n",
    "\n",
    "Do keep in mind that TextBlob is not very good at detecting sarcasm or nuanced topics"
   ],
   "cell_type": "markdown",
   "metadata": {}
  },
  {
   "cell_type": "code",
   "execution_count": 27,
   "metadata": {},
   "outputs": [],
   "source": [
    "# Run this cell to set your topic\n",
    "topic = input()"
   ]
  },
  {
   "cell_type": "code",
   "execution_count": 16,
   "metadata": {},
   "outputs": [],
   "source": [
    "class TwitterClient(object):\n",
    "    '''\n",
    "    generic Twitter Class for sentiment Analysis.\n",
    "\n",
    "    '''\n",
    "    def __init__(self):\n",
    "        '''\n",
    "        Class constructor or initialisation method\n",
    "\n",
    "        '''\n",
    "\n",
    "        # keys and tokens from Twitter Dev method\n",
    "        consumer_key = content[0]\n",
    "        consumer_secret = content[1]\n",
    "        access_token = content[2]\n",
    "        access_token_secret = content[3]\n",
    "\n",
    "        # attempts authentication\n",
    "        try:\n",
    "            # create OAuthHandler object\n",
    "            self.auth = OAuthHandler(consumer_key, consumer_secret)\n",
    "            # set access token and access token secret\n",
    "            self.auth.set_access_token(access_token, access_token_secret)\n",
    "            # create tweetpy API object to fetch tweets\n",
    "            self.api = tweepy.API(self.auth)\n",
    "        \n",
    "        except:\n",
    "            print('ERROR:  authentication failed')\n",
    "        \n",
    "    def clean_tweet(self, tweet):\n",
    "        '''\n",
    "        Utility function to clean tweet text by removing links, special\n",
    "        characters using simple regex statements.\n",
    "\n",
    "        '''\n",
    "\n",
    "        return ' '.join(re.sub('(@[A-Za-z0-9]+)|([^0-9A-Za-z \\t]) |(\\w+:\\/\\/\\S+)', ' ', tweet).split())\n",
    "    \n",
    "    def get_tweet_sentiment(self, tweet):\n",
    "        '''\n",
    "        utility function to classify sentiment of passed tweet using\n",
    "        textblob's sentiment method\n",
    "        '''\n",
    "        # create TextBlob object of passed tweet text\n",
    "        analysis = TextBlob(self.clean_tweet(tweet))\n",
    "        # set sentiment\n",
    "        if analysis.sentiment.polarity > 0:\n",
    "            return 'positive'\n",
    "        elif analysis.sentiment.polarity == 0:\n",
    "            return 'neutral'\n",
    "        else:\n",
    "            return 'negative'\n",
    "\n",
    "\n",
    "    def get_tweets(self, query, count=1000):\n",
    "        '''\n",
    "        main function to fetch tweets and parse them\n",
    "        '''\n",
    "        # empty list to store parse tweets\n",
    "        tweets = []\n",
    "\n",
    "        try:\n",
    "            #  call twitter api to fetch tweets\n",
    "            fetched_tweets = self.api.search(q=query, count=count)\n",
    "\n",
    "            # parsing tweets one by one:\n",
    "            for tweet in fetched_tweets:\n",
    "                # empty dictionary to store required params of a tweet\n",
    "                parsed_tweet = {}\n",
    "                \n",
    "                # saving text of tweet\n",
    "                parsed_tweet['text'] = tweet.text\n",
    "                # saving sentiment of tweet\n",
    "                parsed_tweet['sentiment'] = self.get_tweet_sentiment(tweet.text)\n",
    "\n",
    "                # appending parsed tweet to list\n",
    "                if tweet.retweet_count > 0:\n",
    "                    # if tweet has retweets, ensure that it is only appended once\n",
    "                    if parsed_tweet not in tweets:\n",
    "                        tweets.append(parsed_tweet)\n",
    "                else:\n",
    "                    tweets.append(parsed_tweet)\n",
    "\n",
    "            # return parsed tweets \n",
    "            return tweets\n",
    "\n",
    "        except tweepy.TweepError as e:\n",
    "            # print error, if any:\n",
    "            print('ERROR: ' + str(e))"
   ]
  },
  {
   "cell_type": "code",
   "execution_count": 29,
   "metadata": {
    "tags": []
   },
   "outputs": [
    {
     "output_type": "stream",
     "name": "stdout",
     "text": [
      "Positive Tweets Percentage: 40.69767441860465 %\nNegative Tweets Percentage: 9.30232558139535 %\nNeutral Tweets Percentage: 50.0 %\n\n\nPositive Tweets:\n@TripeUK @UpTheWorkers I think ur right hadn’t noticed - a lot easier to get out of jar ——- I love marmite with avo… https://t.co/OgMXg63e7e\nRT @Myriam_Liebl: Les porcs là sont cute de ouf awwwn. Regardez comment ils dorment entassés. 🤣\nMais ils vont malheureusement finir dans la…\nReady to try a sound-taste experiment @BBCRadio4 The Kitchen Cabinet #bbctkc ? Originally run ⁦@IP_SAS⁩ Lab by Russ… https://t.co/Ul25SBEPHu\n@TripeUK Agreed - still love it though #marmite 💕\n@iBreezeblock @pibarrister I stock piled early in lockdown when someone on Twitter whispered the chance we could ha… https://t.co/GC7nmPCvFS\n@SwearyBerry81 @J2onyabike @CarriePurdom @2_Wheeled_Wolf @gazza_d Exactly! He broke his taste buds and now thinks Marmite is somehow edible\n@TripeUK Null hypothesis: Marmite is the same but you are getting older and have your heating set higher.\nRT @UKChristmas: Who doesn't love a Christmas #Llama!...\n\nHere at #Christmas HQ this new outdoor #inflatable has had a Marmite reaction 😍🙄🤣…\n@pibarrister I love both Marmite &amp; Bovril. The thought of the peanut butter one though 🤮🤮🤮\n@okthenwhatsnext I loathe Marmite 🤢 lol\n@TripeUK Tis true - the plague is spreading.\nFirst espied in Essex, confinement in a fridge did nothing.\nI scoffed.… https://t.co/yQtiydpa5d\nRT @GlasgowNotOsteo: @TripeUK It’s all to do with the great marmite shortage from a few years ago..they had to make less go further. Unfort…\n@LavenderRabe Like the medium Asda I shop at has more that 6 brands of peanut butter. Including American brands and… https://t.co/jGID3HRAQF\nWho doesn't love a Christmas #Llama!...\n\nHere at #Christmas HQ this new outdoor #inflatable has had a Marmite react… https://t.co/InBCtOH7Jr\n@CamdenJonathan @KayBurley OK Daniel O'Donnell is a bit marmite, but British people not knowing/recognising/caring… https://t.co/rqK2i4HONr\nIt’s the “Fennel Countdown” Will be catching up with @jayrayner1 and panel for @4KitchenCabinet @BBCRadio4 at 10.30… https://t.co/7CmxSQYTDP\n@marmite MARMITE IMPS please! Like liquorice imps only way, way, way better... 😋 oooh! And make more of the reduced… https://t.co/ftK5aQQfs1\nRT @nicomede25: @JimMFelton You invented Marmite. You defiled a perfect French word for that. You deserve everything that is happening to y…\n@TripeUK Marmite XO is the proper consistency, but I honestly can’t tell if it tastes any different.\n@Strangeland_Elf @benshapiro I literally don’t care if this ruins my career but I have to say it.....I love Marmite!\nRT @HenJenny: @TripeUK @kachataki @rufford09562638 P.S. I will pay good money if anyone has a jar of a Champagne Marmite lurking at the bac…\n@TripeUK @kachataki @rufford09562638 P.S. I will pay good money if anyone has a jar of a Champagne Marmite lurking… https://t.co/RSx4ecjFDK\n@LRFrogDesigns 😂 I think they’re like marmite, you either love or loathe them! #UKGiftAM #ukgifthour\n@outlawhearts @tom_usher_ Haha tbh I can’t do marmite or bovril in moderation.\nRT @JacquesSalade: @TripeUK Steer clear of the squeezy marmite!!!\n@TripeUK Steer clear of the squeezy marmite!!!\n@nail_chat @PlanetofFinks @Lubchansky @MaraWilson I’ve heard peanut butter and marmite is good and am so reluctant… https://t.co/6A1EdD33su\n1\n- Carr, darling, pass the marmite.\n- It’s in the cupboard....\n- Yes but I’m reading something really important.\n-… https://t.co/mVAcKPrZw7\n@willow1871 @BBCBerkshire Marmite would have been the better option.\n@williamtnhall @marmite I win. I will name him Bernard. 👶🏻 🍼 https://t.co/1s7bq7W9Mm\n@williamtnhall @marmite Hahaha, I love them but oddly I friggin Marmite 🙄. Have you tried the mini Marmite cheeses… https://t.co/BGhYZDx44U\n@TripeUK Did you know there's a marmite tapping society? If you tap some with a knife a certain number of times it turns white.\n@Kavey It's delicious, I also love Marmite under scramble eggs on toast. I use the Sainsbury's reduced salt yeast e… https://t.co/Jsi8xJInuN\n@PlanetofFinks @Lubchansky @MaraWilson Uhhh we have crunchy, smooth, organic, store own brand, cashew nut butter, c… https://t.co/FRLGglYAcD\n@vspearson85 @winklesbloke @wombat37 @BunnyDarkness New Zealand Marmite is more solid. Bit stronger too. Bizarre st… https://t.co/tTaFeQQpBY\n\n\nNegative Tweets:\n@TripeUK I think if anything, Marmite has got less vicious over the years and much more approachable.  Oh, wait.\nRT @TripeUK: Marmite is less viscous than it used to be. Discuss.\n@rose_sinister @TheBloggingGoth I was momentarily concerned that the dark patches were marmite. ;)\n@TripeUK Just read “Marmite is less vicious than it used to be” and wanted to write a strongly worded objection ...\n@GoingMedieval Still a disappointing lack of Marmite, Bovril or Sandwich Spread-related recipes in Bake-Off...\n@Alskay @PlanetofFinks @Lubchansky @MaraWilson Oh god yes, spread on a thin layer of Marmite then take off any exce… https://t.co/SiQE9bPe5L\n@TripeUK Fewer beans in a tin of baked beans (well known brand). Value brand garlic bread has shrunk. Don't know about Marmite - hate it!\nBerliner 'slowly but surely back to solid foods'..astronaut / baby rusk breakfast 💪🏻👶😅.. Next level: Marmite toast https://t.co/wFEPhDClFK\n"
     ]
    }
   ],
   "source": [
    "def main():\n",
    "    # creating object of twitterClient Class\n",
    "    api = TwitterClient()\n",
    "    # calling function to get tweets change query topic\n",
    "    tweets = api.get_tweets(query=topic, count=200)\n",
    "\n",
    "    # picking positive tweets from tweets\n",
    "    ptweets = [tweet for tweet in tweets if tweet['sentiment'] == 'positive']\n",
    "    # percentage of positive tweets\n",
    "    print('Positive Tweets Percentage: {} %'.format(100*len(ptweets)/len(tweets)))\n",
    "\n",
    "    # selecting negative tweets:\n",
    "    ntweets = [tweet for tweet in tweets if tweet['sentiment'] == 'negative']\n",
    "    # percentage of negative tweets\n",
    "    print('Negative Tweets Percentage: {} %'.format(100*len(ntweets)/len(tweets)))\n",
    "\n",
    "    # neutral tweets\n",
    "    neutraltweets = [tweet for tweet in tweets if tweet['sentiment'] == 'neutral']\n",
    "    # percentage of neutral tweets:\n",
    "    print('Neutral Tweets Percentage: {} %'.format(100*len(neutraltweets)/len(tweets)))\n",
    "\n",
    "    # printing first 5 positive tweets\n",
    "    print('\\n\\nPositive Tweets:')\n",
    "    for tweet in ptweets[:100]:\n",
    "        print(tweet['text'])\n",
    "\n",
    "    # printing first 5 negative tweets:\n",
    "    print('\\n\\nNegative Tweets:')\n",
    "    for tweet in ntweets[:100]:\n",
    "        print(tweet['text'])\n",
    "\n",
    "if __name__ == '__main__':\n",
    "    # calling main function\n",
    "    main()"
   ]
  }
 ],
 "metadata": {
  "language_info": {
   "codemirror_mode": {
    "name": "ipython",
    "version": 3
   },
   "file_extension": ".py",
   "mimetype": "text/x-python",
   "name": "python",
   "nbconvert_exporter": "python",
   "pygments_lexer": "ipython3",
   "version": "3.7.7-final"
  },
  "orig_nbformat": 2,
  "kernelspec": {
   "name": "python3",
   "display_name": "Python 3"
  }
 },
 "nbformat": 4,
 "nbformat_minor": 2
}