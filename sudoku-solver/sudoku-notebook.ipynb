{
 "metadata": {
  "language_info": {
   "codemirror_mode": {
    "name": "ipython",
    "version": 3
   },
   "file_extension": ".py",
   "mimetype": "text/x-python",
   "name": "python",
   "nbconvert_exporter": "python",
   "pygments_lexer": "ipython3",
   "version": "3.7.7-final"
  },
  "orig_nbformat": 2,
  "kernelspec": {
   "name": "Python 3.7.7 64-bit ('base': conda)",
   "display_name": "Python 3.7.7 64-bit ('base': conda)",
   "metadata": {
    "interpreter": {
     "hash": "30cdf815892f0a7d9559839e42f2b821377736f262348de296ff78d07fd4cd1a"
    }
   }
  }
 },
 "nbformat": 4,
 "nbformat_minor": 2,
 "cells": [
  {
   "cell_type": "code",
   "execution_count": 1,
   "metadata": {},
   "outputs": [],
   "source": [
    "import numpy as np"
   ]
  },
  {
   "cell_type": "code",
   "execution_count": 2,
   "metadata": {},
   "outputs": [],
   "source": [
    "grid = [[0, 2, 0, 1, 0, 0],\n",
    "        [0, 0, 0, 0, 0, 2],\n",
    "        [5, 0, 3, 2, 4, 1],\n",
    "        [2, 4, 1, 3, 0, 6],\n",
    "        [3, 5, 0, 6, 0, 4],\n",
    "        [6, 1, 0, 5, 2, 3]\n",
    "        ]"
   ]
  },
  {
   "cell_type": "code",
   "execution_count": 15,
   "metadata": {},
   "outputs": [],
   "source": [
    "def possible(y, x, n):\n",
    "    global grid\n",
    "    for i in range(0, 6):\n",
    "        if grid[y][i] == n:\n",
    "            return False\n",
    "\n",
    "    for i in range(0, 6):\n",
    "        if grid[i][x] == n:\n",
    "            return False\n",
    "\n",
    "    x0 = (x//3)*3\n",
    "    y0 = (y//3)*3\n",
    "\n",
    "    for i in range(0, 3):\n",
    "        for j in range(0, 3):\n",
    "            if grid[y0+i][x0+j] == n:\n",
    "                return False\n",
    "\n",
    "    return True"
   ]
  },
  {
   "cell_type": "code",
   "execution_count": 4,
   "metadata": {},
   "outputs": [
    {
     "output_type": "stream",
     "name": "stdout",
     "text": [
      "[[0 2 0 1 0 0]\n [0 0 0 0 0 2]\n [5 0 3 2 4 1]\n [2 4 1 3 0 6]\n [3 5 0 6 0 4]\n [6 1 0 5 2 3]]\n"
     ]
    }
   ],
   "source": [
    "print(np.matrix(grid))"
   ]
  },
  {
   "cell_type": "code",
   "execution_count": 16,
   "metadata": {},
   "outputs": [],
   "source": [
    "def solve():\n",
    "    global grid\n",
    "    for y in range(6):\n",
    "        for x in range(6):\n",
    "            if grid[y][x] == 0:\n",
    "                for n in range(1, 10):\n",
    "                    if possible(y, x, n):\n",
    "                        grid[y][x] = n\n",
    "                        solve()\n",
    "                        grid[y][x] = 0\n",
    "                return\n",
    "    print(np.matrix(grid))"
   ]
  },
  {
   "cell_type": "code",
   "execution_count": null,
   "metadata": {},
   "outputs": [],
   "source": [
    "[[9 2 8 1 7 5]\n",
    " [1 7 4 9 3 2]\n",
    " [5 6 3 2 4 1]\n",
    " [2 4 1 3 9 6]\n",
    " [3 5 7 6 8 4]\n",
    " [6 1 9 5 2 3]]"
   ]
  },
  {
   "cell_type": "code",
   "execution_count": 17,
   "metadata": {},
   "outputs": [],
   "source": [
    "solv"
   ]
  },
  {
   "cell_type": "code",
   "execution_count": null,
   "metadata": {},
   "outputs": [],
   "source": []
  }
 ]
}